{
 "cells": [
  {
   "cell_type": "code",
   "execution_count": 35,
   "metadata": {},
   "outputs": [],
   "source": [
    "import pandas as pd\n",
    "import numpy as np"
   ]
  },
  {
   "cell_type": "code",
   "execution_count": 36,
   "metadata": {},
   "outputs": [],
   "source": [
    "train = pd.read_excel(\"./Data/Data_Train.xlsx\")\n",
    "test = pd.read_excel(\"./Data/Data_Test.xlsx\")"
   ]
  },
  {
   "cell_type": "code",
   "execution_count": 37,
   "metadata": {},
   "outputs": [
    {
     "data": {
      "text/plain": [
       "Index(['Title', 'Author', 'Edition', 'Reviews', 'Ratings', 'Synopsis', 'Genre',\n",
       "       'BookCategory', 'Price'],\n",
       "      dtype='object')"
      ]
     },
     "execution_count": 37,
     "metadata": {},
     "output_type": "execute_result"
    }
   ],
   "source": [
    "train.columns"
   ]
  },
  {
   "cell_type": "code",
   "execution_count": 38,
   "metadata": {},
   "outputs": [],
   "source": [
    "train.drop(['Title', 'Author', 'Edition', 'Synopsis', 'Genre'], axis = 1, inplace=True)\n",
    "test.drop(['Title', 'Author', 'Edition', 'Synopsis', 'Genre'], axis = 1, inplace=True)"
   ]
  },
  {
   "cell_type": "code",
   "execution_count": 39,
   "metadata": {},
   "outputs": [
    {
     "data": {
      "text/html": [
       "<div>\n",
       "<style scoped>\n",
       "    .dataframe tbody tr th:only-of-type {\n",
       "        vertical-align: middle;\n",
       "    }\n",
       "\n",
       "    .dataframe tbody tr th {\n",
       "        vertical-align: top;\n",
       "    }\n",
       "\n",
       "    .dataframe thead th {\n",
       "        text-align: right;\n",
       "    }\n",
       "</style>\n",
       "<table border=\"1\" class=\"dataframe\">\n",
       "  <thead>\n",
       "    <tr style=\"text-align: right;\">\n",
       "      <th></th>\n",
       "      <th>Reviews</th>\n",
       "      <th>Ratings</th>\n",
       "      <th>BookCategory</th>\n",
       "      <th>Price</th>\n",
       "    </tr>\n",
       "  </thead>\n",
       "  <tbody>\n",
       "    <tr>\n",
       "      <th>0</th>\n",
       "      <td>4.0 out of 5 stars</td>\n",
       "      <td>8 customer reviews</td>\n",
       "      <td>Action &amp; Adventure</td>\n",
       "      <td>220.00</td>\n",
       "    </tr>\n",
       "    <tr>\n",
       "      <th>1</th>\n",
       "      <td>3.9 out of 5 stars</td>\n",
       "      <td>14 customer reviews</td>\n",
       "      <td>Biographies, Diaries &amp; True Accounts</td>\n",
       "      <td>202.93</td>\n",
       "    </tr>\n",
       "  </tbody>\n",
       "</table>\n",
       "</div>"
      ],
      "text/plain": [
       "              Reviews              Ratings  \\\n",
       "0  4.0 out of 5 stars   8 customer reviews   \n",
       "1  3.9 out of 5 stars  14 customer reviews   \n",
       "\n",
       "                           BookCategory   Price  \n",
       "0                    Action & Adventure  220.00  \n",
       "1  Biographies, Diaries & True Accounts  202.93  "
      ]
     },
     "execution_count": 39,
     "metadata": {},
     "output_type": "execute_result"
    }
   ],
   "source": [
    "train.head(2)"
   ]
  },
  {
   "cell_type": "code",
   "execution_count": 40,
   "metadata": {},
   "outputs": [],
   "source": [
    "train['Reviews'] = train['Reviews'].str.split(\" \",n=1, expand=True)[0]\n",
    "train['Ratings'] = train['Ratings'].str.split(\" \",n=1, expand=True)[0]\n",
    "train['Ratings'] = train['Ratings'].str.replace(\",\", \"\")\n",
    "\n",
    "train['Reviews'] = train['Reviews'].str.split(\" \",n=1, expand=True)[0]\n",
    "train['Ratings'] = train['Ratings'].str.split(\" \",n=1, expand=True)[0]\n",
    "train['Ratings'] = train['Ratings'].str.replace(\",\", \"\")\n",
    "\n",
    "train['Reviews'] = train['Reviews'].astype(\"float\")\n",
    "train['Ratings'] = train['Ratings'].astype(\"int\")"
   ]
  },
  {
   "cell_type": "code",
   "execution_count": 41,
   "metadata": {},
   "outputs": [],
   "source": [
    "test['Reviews'] = test['Reviews'].str.split(\" \",n=1, expand=True)[0]\n",
    "test['Ratings'] = test['Ratings'].str.split(\" \",n=1, expand=True)[0]\n",
    "test['Ratings'] = test['Ratings'].str.replace(\",\", \"\")\n",
    "\n",
    "test['Reviews'] = test['Reviews'].str.split(\" \",n=1, expand=True)[0]\n",
    "test['Ratings'] = test['Ratings'].str.split(\" \",n=1, expand=True)[0]\n",
    "test['Ratings'] = test['Ratings'].str.replace(\",\", \"\")\n",
    "\n",
    "test['Reviews'] = test['Reviews'].astype(\"float\")\n",
    "test['Ratings'] = test['Ratings'].astype(\"int\")"
   ]
  },
  {
   "cell_type": "code",
   "execution_count": 42,
   "metadata": {},
   "outputs": [
    {
     "name": "stdout",
     "output_type": "stream",
     "text": [
      "<class 'pandas.core.frame.DataFrame'>\n",
      "RangeIndex: 6237 entries, 0 to 6236\n",
      "Data columns (total 4 columns):\n",
      " #   Column        Non-Null Count  Dtype  \n",
      "---  ------        --------------  -----  \n",
      " 0   Reviews       6237 non-null   float64\n",
      " 1   Ratings       6237 non-null   int32  \n",
      " 2   BookCategory  6237 non-null   object \n",
      " 3   Price         6237 non-null   float64\n",
      "dtypes: float64(2), int32(1), object(1)\n",
      "memory usage: 170.7+ KB\n"
     ]
    }
   ],
   "source": [
    "train.info()"
   ]
  },
  {
   "cell_type": "code",
   "execution_count": 43,
   "metadata": {},
   "outputs": [],
   "source": [
    "temp_train = pd.get_dummies(train['BookCategory'])\n",
    "train = train.drop('BookCategory', axis=1)\n",
    "train = train.join(temp_train)\n",
    "\n",
    "temp_test = pd.get_dummies(test['BookCategory'])\n",
    "test = test.drop('BookCategory', axis=1)\n",
    "test = test.join(temp_test)"
   ]
  },
  {
   "cell_type": "code",
   "execution_count": 44,
   "metadata": {},
   "outputs": [
    {
     "data": {
      "text/html": [
       "<div>\n",
       "<style scoped>\n",
       "    .dataframe tbody tr th:only-of-type {\n",
       "        vertical-align: middle;\n",
       "    }\n",
       "\n",
       "    .dataframe tbody tr th {\n",
       "        vertical-align: top;\n",
       "    }\n",
       "\n",
       "    .dataframe thead th {\n",
       "        text-align: right;\n",
       "    }\n",
       "</style>\n",
       "<table border=\"1\" class=\"dataframe\">\n",
       "  <thead>\n",
       "    <tr style=\"text-align: right;\">\n",
       "      <th></th>\n",
       "      <th>Reviews</th>\n",
       "      <th>Ratings</th>\n",
       "      <th>Price</th>\n",
       "      <th>Action &amp; Adventure</th>\n",
       "      <th>Arts, Film &amp; Photography</th>\n",
       "      <th>Biographies, Diaries &amp; True Accounts</th>\n",
       "      <th>Comics &amp; Mangas</th>\n",
       "      <th>Computing, Internet &amp; Digital Media</th>\n",
       "      <th>Crime, Thriller &amp; Mystery</th>\n",
       "      <th>Humour</th>\n",
       "      <th>Language, Linguistics &amp; Writing</th>\n",
       "      <th>Politics</th>\n",
       "      <th>Romance</th>\n",
       "      <th>Sports</th>\n",
       "    </tr>\n",
       "  </thead>\n",
       "  <tbody>\n",
       "    <tr>\n",
       "      <th>0</th>\n",
       "      <td>4.0</td>\n",
       "      <td>8</td>\n",
       "      <td>220.00</td>\n",
       "      <td>1</td>\n",
       "      <td>0</td>\n",
       "      <td>0</td>\n",
       "      <td>0</td>\n",
       "      <td>0</td>\n",
       "      <td>0</td>\n",
       "      <td>0</td>\n",
       "      <td>0</td>\n",
       "      <td>0</td>\n",
       "      <td>0</td>\n",
       "      <td>0</td>\n",
       "    </tr>\n",
       "    <tr>\n",
       "      <th>1</th>\n",
       "      <td>3.9</td>\n",
       "      <td>14</td>\n",
       "      <td>202.93</td>\n",
       "      <td>0</td>\n",
       "      <td>0</td>\n",
       "      <td>1</td>\n",
       "      <td>0</td>\n",
       "      <td>0</td>\n",
       "      <td>0</td>\n",
       "      <td>0</td>\n",
       "      <td>0</td>\n",
       "      <td>0</td>\n",
       "      <td>0</td>\n",
       "      <td>0</td>\n",
       "    </tr>\n",
       "  </tbody>\n",
       "</table>\n",
       "</div>"
      ],
      "text/plain": [
       "   Reviews  Ratings   Price  Action & Adventure  Arts, Film & Photography  \\\n",
       "0      4.0        8  220.00                   1                         0   \n",
       "1      3.9       14  202.93                   0                         0   \n",
       "\n",
       "   Biographies, Diaries & True Accounts  Comics & Mangas  \\\n",
       "0                                     0                0   \n",
       "1                                     1                0   \n",
       "\n",
       "   Computing, Internet & Digital Media  Crime, Thriller & Mystery  Humour  \\\n",
       "0                                    0                          0       0   \n",
       "1                                    0                          0       0   \n",
       "\n",
       "   Language, Linguistics & Writing  Politics  Romance  Sports  \n",
       "0                                0         0        0       0  \n",
       "1                                0         0        0       0  "
      ]
     },
     "execution_count": 44,
     "metadata": {},
     "output_type": "execute_result"
    }
   ],
   "source": [
    "train.head(2)"
   ]
  },
  {
   "cell_type": "code",
   "execution_count": 45,
   "metadata": {},
   "outputs": [],
   "source": [
    "X = train.drop('Price', axis=1).values\n",
    "y = train['Price'].values"
   ]
  },
  {
   "cell_type": "code",
   "execution_count": 46,
   "metadata": {},
   "outputs": [],
   "source": [
    "from sklearn.model_selection import train_test_split\n",
    "\n",
    "X_train, X_test, y_train, y_test = train_test_split(X, y, test_size=0.2, random_state=42)"
   ]
  },
  {
   "cell_type": "code",
   "execution_count": 47,
   "metadata": {},
   "outputs": [
    {
     "data": {
      "text/plain": [
       "LinearRegression()"
      ]
     },
     "execution_count": 47,
     "metadata": {},
     "output_type": "execute_result"
    }
   ],
   "source": [
    "from sklearn.linear_model import LinearRegression\n",
    "\n",
    "lr = LinearRegression()\n",
    "lr.fit(X_train, y_train)"
   ]
  },
  {
   "cell_type": "code",
   "execution_count": 48,
   "metadata": {},
   "outputs": [
    {
     "data": {
      "text/plain": [
       "0.09677144001987514"
      ]
     },
     "execution_count": 48,
     "metadata": {},
     "output_type": "execute_result"
    }
   ],
   "source": [
    "lr.score(X_test, y_test)"
   ]
  },
  {
   "cell_type": "code",
   "execution_count": 49,
   "metadata": {},
   "outputs": [
    {
     "name": "stdout",
     "output_type": "stream",
     "text": [
      "[338.12758735]\n",
      "499.0\n"
     ]
    }
   ],
   "source": [
    "print(lr.predict(X_train[1343].reshape(1,-1)))\n",
    "print(y_train[1343])"
   ]
  },
  {
   "cell_type": "code",
   "execution_count": 50,
   "metadata": {},
   "outputs": [],
   "source": [
    "y_pred = lr.predict(X_test)"
   ]
  },
  {
   "cell_type": "code",
   "execution_count": 51,
   "metadata": {},
   "outputs": [
    {
     "data": {
      "text/plain": [
       "0.682749139427681"
      ]
     },
     "execution_count": 51,
     "metadata": {},
     "output_type": "execute_result"
    }
   ],
   "source": [
    "1 - np.sqrt(np.square(np.log10(y_pred +1) - np.log10(y_test +1)).mean())"
   ]
  },
  {
   "cell_type": "code",
   "execution_count": 67,
   "metadata": {},
   "outputs": [],
   "source": [
    "pred = lr.predict(test)"
   ]
  },
  {
   "cell_type": "code",
   "execution_count": 68,
   "metadata": {},
   "outputs": [
    {
     "data": {
      "text/plain": [
       "Index(['Price'], dtype='object')"
      ]
     },
     "execution_count": 68,
     "metadata": {},
     "output_type": "execute_result"
    }
   ],
   "source": [
    "res = pd.DataFrame({\"Price\":pred})\n",
    "res.columns"
   ]
  },
  {
   "cell_type": "code",
   "execution_count": 69,
   "metadata": {},
   "outputs": [],
   "source": [
    "res.to_csv(\"Submission.csv\")"
   ]
  },
  {
   "cell_type": "code",
   "execution_count": null,
   "metadata": {},
   "outputs": [],
   "source": []
  }
 ],
 "metadata": {
  "interpreter": {
   "hash": "5946087bff27c8c4ee64da033f255bad64a53683df65da8909f69e5e480721be"
  },
  "kernelspec": {
   "display_name": "Python 3.9.7 64-bit ('base': conda)",
   "language": "python",
   "name": "python3"
  },
  "language_info": {
   "codemirror_mode": {
    "name": "ipython",
    "version": 3
   },
   "file_extension": ".py",
   "mimetype": "text/x-python",
   "name": "python",
   "nbconvert_exporter": "python",
   "pygments_lexer": "ipython3",
   "version": "3.9.7"
  },
  "orig_nbformat": 4
 },
 "nbformat": 4,
 "nbformat_minor": 2
}
